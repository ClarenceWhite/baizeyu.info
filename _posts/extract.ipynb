{
 "cells": [
  {
   "cell_type": "code",
   "execution_count": 1,
   "metadata": {},
   "outputs": [],
   "source": [
    "import json\n",
    "from datetime import datetime\n",
    "import logging"
   ]
  },
  {
   "cell_type": "code",
   "execution_count": 2,
   "metadata": {},
   "outputs": [],
   "source": [
    "def convert_json_to_jekyll(data):\n",
    "\n",
    "    # Extract needed data\n",
    "    title = data['title']\n",
    "    content = data['content']\n",
    "    date_string = data['last_modified']['$date']\n",
    "    date = datetime.strptime(date_string, \"%Y-%m-%dT%H:%M:%S.%fZ\")\n",
    "    categories = data['category'].capitalize()\n",
    "\n",
    "    # Convert to Jekyll format\n",
    "    jekyll_blog = f\"\"\"---\n",
    "layout: post\n",
    "title: \"{title}\"\n",
    "categories: {categories}\n",
    "date: {date.strftime(\"%Y-%m-%d\")}\n",
    "image: \"/assets/images/\"\n",
    "excerpt: \n",
    "reading_time: \n",
    "---\n",
    "{content}\"\"\"\n",
    "\n",
    "    return jekyll_blog, date.strftime(\"%Y-%m-%d\"), title"
   ]
  },
  {
   "cell_type": "code",
   "execution_count": 3,
   "metadata": {},
   "outputs": [],
   "source": [
    "# Load the JSON data\n",
    "with open('blog-data.json', 'r', encoding='utf-8') as f:\n",
    "    json_data = json.load(f)\n",
    "logging.info(json_data)\n",
    "\n",
    "# Process each object in the list\n",
    "for data in json_data:\n",
    "    jekyll_blog, date, title = convert_json_to_jekyll(data)\n",
    "\n",
    "    # Convert the title to a suitable filename\n",
    "    title = title.replace(\" \", \"-\").replace(\":\", \"\").replace(\"\\\"\", \"\").lower()\n",
    "    filename = f\"{date}-{title}.md\"\n",
    "    logging.info(f\"Processing file: {filename}\")\n",
    "\n",
    "    # Save to file\n",
    "    with open(filename, 'w', encoding='utf-8') as f:\n",
    "        f.write(jekyll_blog)"
   ]
  },
  {
   "cell_type": "code",
   "execution_count": null,
   "metadata": {},
   "outputs": [],
   "source": []
  }
 ],
 "metadata": {
  "kernelspec": {
   "display_name": "base",
   "language": "python",
   "name": "python3"
  },
  "language_info": {
   "codemirror_mode": {
    "name": "ipython",
    "version": 3
   },
   "file_extension": ".py",
   "mimetype": "text/x-python",
   "name": "python",
   "nbconvert_exporter": "python",
   "pygments_lexer": "ipython3",
   "version": "3.10.11"
  },
  "orig_nbformat": 4
 },
 "nbformat": 4,
 "nbformat_minor": 2
}
